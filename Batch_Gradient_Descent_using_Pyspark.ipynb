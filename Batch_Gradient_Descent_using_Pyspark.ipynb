{
  "cells": [
    {
      "cell_type": "markdown",
      "metadata": {
        "id": "view-in-github",
        "colab_type": "text"
      },
      "source": [
        "<a href=\"https://colab.research.google.com/github/tussanakorn/Data-Science-for-Tourism-Course2/blob/master/Batch_Gradient_Descent_using_Pyspark.ipynb\" target=\"_parent\"><img src=\"https://colab.research.google.com/assets/colab-badge.svg\" alt=\"Open In Colab\"/></a>"
      ]
    },
    {
      "cell_type": "code",
      "execution_count": null,
      "metadata": {
        "id": "0dTkA-bDa5bm"
      },
      "outputs": [],
      "source": [
        "!apt-get install openjdk-8-jdk-headless -qq > /dev/null\n",
        "!wget -q https://archive.apache.org/dist/spark/spark-2.4.1/spark-2.4.1-bin-hadoop2.7.tgz\n",
        "!tar xf spark-2.4.1-bin-hadoop2.7.tgz\n",
        "!pip install -q findspark"
      ]
    },
    {
      "cell_type": "code",
      "execution_count": null,
      "metadata": {
        "id": "cy4_WOqEa5GJ"
      },
      "outputs": [],
      "source": [
        "import os\n",
        "os.environ[\"JAVA_HOME\"] = \"/usr/lib/jvm/java-8-openjdk-amd64\"\n",
        "os.environ[\"SPARK_HOME\"] = \"/content/spark-2.4.1-bin-hadoop2.7\""
      ]
    },
    {
      "cell_type": "code",
      "execution_count": null,
      "metadata": {
        "id": "kI7zVpqja4du"
      },
      "outputs": [],
      "source": [
        "import findspark\n",
        "findspark.init()\n",
        "from pyspark.sql import SparkSession\n",
        "spark = SparkSession.builder.master(\"local[*]\").getOrCreate()"
      ]
    },
    {
      "cell_type": "code",
      "execution_count": null,
      "metadata": {
        "collapsed": true,
        "id": "gLOiqgf1a2Ku"
      },
      "outputs": [],
      "source": [
        "from pyspark.sql import SparkSession"
      ]
    },
    {
      "cell_type": "code",
      "execution_count": null,
      "metadata": {
        "collapsed": true,
        "id": "GBqMbCCxa2Kv"
      },
      "outputs": [],
      "source": [
        "sc = spark.sparkContext"
      ]
    },
    {
      "cell_type": "code",
      "execution_count": null,
      "metadata": {
        "colab": {
          "base_uri": "https://localhost:8080/",
          "height": 198
        },
        "id": "MjoDgjaja2Kv",
        "outputId": "883df0cc-f8fc-407b-ffd9-bca6d654aa3a"
      },
      "outputs": [
        {
          "output_type": "execute_result",
          "data": {
            "text/html": [
              "\n",
              "        <div>\n",
              "            <p><b>SparkContext</b></p>\n",
              "\n",
              "            <p><a href=\"http://07a3200b3db7:4040\">Spark UI</a></p>\n",
              "\n",
              "            <dl>\n",
              "              <dt>Version</dt>\n",
              "                <dd><code>v2.4.1</code></dd>\n",
              "              <dt>Master</dt>\n",
              "                <dd><code>local[*]</code></dd>\n",
              "              <dt>AppName</dt>\n",
              "                <dd><code>pyspark-shell</code></dd>\n",
              "            </dl>\n",
              "        </div>\n",
              "        "
            ],
            "text/plain": [
              "<SparkContext master=local[*] appName=pyspark-shell>"
            ]
          },
          "metadata": {},
          "execution_count": 258
        }
      ],
      "source": [
        "sc"
      ]
    },
    {
      "cell_type": "markdown",
      "metadata": {
        "id": "ny9-KLrFa2Kw"
      },
      "source": [
        "สร้างข้อมูลขึ้นมาเป็น Python's List of tuple แล้วให้ Spark ทำการ Load&Convert เป็น Spark's DataFrame"
      ]
    },
    {
      "cell_type": "code",
      "execution_count": null,
      "metadata": {
        "id": "EW1r9dFczMhn"
      },
      "outputs": [],
      "source": [
        "import numpy as np"
      ]
    },
    {
      "cell_type": "code",
      "execution_count": null,
      "metadata": {
        "collapsed": true,
        "id": "AW9nbKd9a2Kw"
      },
      "outputs": [],
      "source": [
        "raw_df = spark.createDataFrame([(2,15)\\\n",
        "                                ,(3,28)\\\n",
        "                                ,(5,42)\\\n",
        "                                ,(13,64)\\\n",
        "                                ,(8,50)\\\n",
        "                                ,(16,90)\\\n",
        "                                ,(11,58)\\\n",
        "                                ,(1,8)\\\n",
        "                                ,(9,54)], \n",
        "                           ['yoe','salary'])"
      ]
    },
    {
      "cell_type": "code",
      "execution_count": null,
      "metadata": {
        "colab": {
          "base_uri": "https://localhost:8080/"
        },
        "id": "9UmmZAB_a2Kx",
        "outputId": "e553d3e6-0e13-4dba-f619-d552161536be"
      },
      "outputs": [
        {
          "output_type": "stream",
          "name": "stdout",
          "text": [
            "+---+------+\n",
            "|yoe|salary|\n",
            "+---+------+\n",
            "|  2|    15|\n",
            "|  3|    28|\n",
            "|  5|    42|\n",
            "| 13|    64|\n",
            "|  8|    50|\n",
            "| 16|    90|\n",
            "| 11|    58|\n",
            "|  1|     8|\n",
            "|  9|    54|\n",
            "+---+------+\n",
            "\n"
          ]
        }
      ],
      "source": [
        "raw_df.show(20)"
      ]
    },
    {
      "cell_type": "markdown",
      "metadata": {
        "id": "v9MnNblOa2K0"
      },
      "source": [
        "แปลงจาก Spark’s DataFrame ไปเป็น Python Numpy’s Array."
      ]
    },
    {
      "cell_type": "code",
      "execution_count": null,
      "metadata": {
        "collapsed": true,
        "id": "lZClruLWa2K0"
      },
      "outputs": [],
      "source": [
        "data_array = np.array(raw_df.collect())"
      ]
    },
    {
      "cell_type": "markdown",
      "metadata": {
        "id": "-b967vwOPHjt"
      },
      "source": [
        "**Require: set of training instances D**"
      ]
    },
    {
      "cell_type": "code",
      "execution_count": null,
      "metadata": {
        "colab": {
          "base_uri": "https://localhost:8080/"
        },
        "id": "WskuUp00a2K0",
        "outputId": "599bdfc8-bb4d-40a3-9425-46c9ed65e132"
      },
      "outputs": [
        {
          "output_type": "execute_result",
          "data": {
            "text/plain": [
              "array([[ 2, 15],\n",
              "       [ 3, 28],\n",
              "       [ 5, 42],\n",
              "       [13, 64],\n",
              "       [ 8, 50],\n",
              "       [16, 90],\n",
              "       [11, 58],\n",
              "       [ 1,  8],\n",
              "       [ 9, 54]])"
            ]
          },
          "metadata": {},
          "execution_count": 325
        }
      ],
      "source": [
        "data_array"
      ]
    },
    {
      "cell_type": "code",
      "execution_count": null,
      "metadata": {
        "colab": {
          "base_uri": "https://localhost:8080/"
        },
        "id": "mF2ozwKaa2LB",
        "outputId": "1c301591-dfb2-4860-ddff-2e463c420113"
      },
      "outputs": [
        {
          "output_type": "execute_result",
          "data": {
            "text/plain": [
              "(9, 2)"
            ]
          },
          "metadata": {},
          "execution_count": 326
        }
      ],
      "source": [
        "data_array.shape"
      ]
    },
    {
      "cell_type": "markdown",
      "metadata": {
        "id": "YAdwwQHUa2K-"
      },
      "source": [
        "##### **Require: Random starting point in the weight space**"
      ]
    },
    {
      "cell_type": "code",
      "execution_count": null,
      "metadata": {
        "collapsed": true,
        "id": "Teu2zBITa2K-"
      },
      "outputs": [],
      "source": [
        "np.random.seed(12345)"
      ]
    },
    {
      "cell_type": "code",
      "execution_count": null,
      "metadata": {
        "collapsed": true,
        "id": "jVMn3p6Ja2K_"
      },
      "outputs": [],
      "source": [
        "w1 = np.random.randn()\n",
        "w0 = np.random.randn()"
      ]
    },
    {
      "cell_type": "code",
      "execution_count": null,
      "metadata": {
        "colab": {
          "base_uri": "https://localhost:8080/"
        },
        "id": "VFvPYMGTa2K_",
        "outputId": "0191bf84-e47d-47a3-e158-2b92fd682120"
      },
      "outputs": [
        {
          "output_type": "stream",
          "name": "stdout",
          "text": [
            "-0.20470765948471295 0.47894333805754824\n"
          ]
        }
      ],
      "source": [
        "print(w1, w0)"
      ]
    },
    {
      "cell_type": "markdown",
      "metadata": {
        "id": "31TkxnDdH4bW"
      },
      "source": [
        "**Require: a learning rate that controls how quickly the algorithm converges**"
      ]
    },
    {
      "cell_type": "code",
      "execution_count": null,
      "metadata": {
        "collapsed": true,
        "id": "UvBXWRnsa2LC"
      },
      "outputs": [],
      "source": [
        "learning_rate = 0.00000003"
      ]
    },
    {
      "cell_type": "markdown",
      "metadata": {
        "id": "4SKSbxM4fn3r"
      },
      "source": [
        "กำหนดค่าเริ่มต้นอื่นๆ"
      ]
    },
    {
      "cell_type": "code",
      "execution_count": null,
      "metadata": {
        "id": "oqlkETORO1xg"
      },
      "outputs": [],
      "source": [
        "all_errors = []\n",
        "multiple_deltaVal_w1_arr = np.array([])\n",
        "epoch = 1000000"
      ]
    },
    {
      "cell_type": "markdown",
      "metadata": {
        "id": "GtebyUDHfZMq"
      },
      "source": [
        "Algorithm 4: Batch Gradient Descent"
      ]
    },
    {
      "cell_type": "code",
      "execution_count": null,
      "metadata": {
        "collapsed": true,
        "id": "ghL8RTuta2LC"
      },
      "outputs": [],
      "source": [
        "for i in range(epoch):\n",
        "  single_deltaVal_w0_arr = np.array([])\n",
        "  single_deltaVal_w1_arr = np.array([])\n",
        "\n",
        "  for obs in data_array:\n",
        "\n",
        "    d1 = obs[0]\n",
        "    target_var = obs[1]\n",
        "\n",
        "    ## (Candidate) Simple Linear Regression Model\n",
        "    pred_from_CandidateModel = w1*d1+w0  \n",
        "    \n",
        "    ## Require:\n",
        "    ## Optimization Algorithm: a function, errorDelta, that determines  \n",
        "    ##            the direction in which to adjust a given weight, w[j], \n",
        "    ##            so as to move down the slope of an error surface determined \n",
        "    ##            by the data, D.\n",
        "\n",
        "    ## Gradient of Error surface (Partial derivative of the error function with respect to weights on SINGLE training instances)\n",
        "    error_from_pred = (target_var-pred_from_CandidateModel)\n",
        "    single_deltaVal_w0_arr = np.append(single_deltaVal_w0_arr,error_from_pred*(-1))     ## The second parameter is equation 7.14\n",
        "    single_deltaVal_w1_arr = np.append(single_deltaVal_w1_arr,error_from_pred*d1*(-1))  ## The second parameter is equation 7.14   \n",
        "\n",
        "    ############################################################################\n",
        "\n",
        "  ## SSE\n",
        "  SSE_val = (single_deltaVal_w0_arr**2).sum()     ## SSE ในแต่ละ Epoch\n",
        "  all_errors.append(SSE_val)                      ## เก็บสะสม SSE จากแต่ละ Epoch ไว้ใน List\n",
        "\n",
        "  ## Gradient of Error surface (Partial derivative of the error function with respect to weights on MULTIPLE training instances)\n",
        "  multiple_deltaVal_w1_var = (single_deltaVal_w1_arr.sum()) ### The second parameter is equation 7.15\n",
        "  multiple_deltaVal_w0_var = (single_deltaVal_w0_arr.sum()) ### The second parameter is equation 7.15\n",
        "  multiple_deltaVal_w1_arr = np.append(multiple_deltaVal_w1_arr,multiple_deltaVal_w1_var) ## เก็บสะสม Gradient (Delta value) with w1  ของแต่ละ Epoch ไว้ใน Array\n",
        "\n",
        "  ## Gradient Descent Calculation ซึ่งมีการปรับค่า weight ในแต่ละ Epoch (1 Adjustment/Epoch)\n",
        "  w1 = w1 + ((-1)*(learning_rate) * multiple_deltaVal_w1_var) ### The (-1) is related to equation 7.16, and all is equation 7.17\n",
        "  w0 = w0 + ((-1)*(learning_rate) * multiple_deltaVal_w0_var) ### The (-1) is related to equation 7.16, and all is equation 7.17"
      ]
    },
    {
      "cell_type": "code",
      "execution_count": null,
      "metadata": {
        "id": "lvhYLywqGg6G"
      },
      "outputs": [],
      "source": [
        "import matplotlib.pyplot as plt\n",
        "%matplotlib inline"
      ]
    },
    {
      "cell_type": "markdown",
      "metadata": {
        "id": "dAZ8W5OvheHB"
      },
      "source": [
        "เมื่อผ่านไปในแต่ละ Epoch แสดงให้เห็นว่า Error ลดต่ำลงเรื่อยๆ จนถึงจุด Global Minimum ซึ่ง Gradient เข้าใกล้ zero และได้ Error ที่ต่ำที่สุด"
      ]
    },
    {
      "cell_type": "code",
      "execution_count": null,
      "metadata": {
        "colab": {
          "base_uri": "https://localhost:8080/",
          "height": 295
        },
        "id": "mSmPD-Lta2LC",
        "outputId": "f35b5fdb-0f44-492c-dc2b-afbd908279d5"
      },
      "outputs": [
        {
          "output_type": "display_data",
          "data": {
            "image/png": "[encoded data removed]",
            "text/plain": [
              "<Figure size 432x288 with 1 Axes>"
            ]
          },
          "metadata": {
            "needs_background": "light"
          }
        }
      ],
      "source": [
        "plt.plot(all_errors)\n",
        "plt.title('SSE per Epoch')\n",
        "plt.xlabel('Epoch')\n",
        "plt.ylabel('Error')\n",
        "plt.show()"
      ]
    },
    {
      "cell_type": "code",
      "execution_count": null,
      "metadata": {
        "colab": {
          "base_uri": "https://localhost:8080/",
          "height": 331
        },
        "id": "xYT-VdOZHIGH",
        "outputId": "3d2986a7-ab63-479a-91ec-15e89aa35410"
      },
      "outputs": [
        {
          "output_type": "stream",
          "name": "stdout",
          "text": [
            "\n",
            " multiple_deltaVal_w1_arr [0.10300777 0.10300776 0.10300775 ... 0.09515646 0.09515645 0.09515645]\n"
          ]
        },
        {
          "output_type": "display_data",
          "data": {
            "image/png": "[encoded data removed]",
            "text/plain": [
              "<Figure size 432x288 with 1 Axes>"
            ]
          },
          "metadata": {
            "needs_background": "light"
          }
        }
      ],
      "source": [
        "print('\\n multiple_deltaVal_w1_arr', multiple_deltaVal_w1_arr)\n",
        "import matplotlib.pyplot as plt\n",
        "%matplotlib inline\n",
        "#plt.plot(single_deltaVal_w1_arr,'b-o')\n",
        "plt.plot(multiple_deltaVal_w1_arr)\n",
        "plt.title('Gradient of Error surface per Epoch')\n",
        "plt.xlabel('Epochs')\n",
        "plt.ylabel('Gradient of Error surface')\n",
        "plt.show()"
      ]
    },
    {
      "cell_type": "code",
      "execution_count": null,
      "metadata": {
        "colab": {
          "base_uri": "https://localhost:8080/"
        },
        "id": "vidlkqFva2LC",
        "outputId": "dc333eb5-db49-49e1-a7d4-7fd2d9cd1cb8"
      },
      "outputs": [
        {
          "output_type": "stream",
          "name": "stdout",
          "text": [
            "The final values of w1, and w0\n",
            "---------------------------------\n",
            "w1 = 4.835595649593503\n",
            "w0  = 8.795740179923625\n"
          ]
        }
      ],
      "source": [
        "print('The final values of w1, and w0')\n",
        "print('---------------------------------')\n",
        "print('w1 = {}'.format(w1))\n",
        "\n",
        "print('w0  = {}'.format(w0))"
      ]
    },
    {
      "cell_type": "code",
      "execution_count": null,
      "metadata": {
        "id": "4ENBBdwGxfc_"
      },
      "outputs": [],
      "source": [
        "from pyspark.sql import functions as sparkf\n",
        "from pyspark.sql.types import *"
      ]
    },
    {
      "cell_type": "code",
      "execution_count": null,
      "metadata": {
        "id": "W2aFWv7qyRbM"
      },
      "outputs": [],
      "source": [
        "def lineareq(origi,m,b):\n",
        "  result = (origi*m)+b\n",
        "  return result\n",
        "sparkf_lineareq = sparkf.udf(lambda x,m,b: lineareq(x,m,b))"
      ]
    },
    {
      "cell_type": "code",
      "execution_count": null,
      "metadata": {
        "colab": {
          "base_uri": "https://localhost:8080/"
        },
        "id": "U12GCGUO7zYO",
        "outputId": "7382c436-6f63-419d-f2a7-94f8c8af1296"
      },
      "outputs": [
        {
          "output_type": "stream",
          "name": "stdout",
          "text": [
            "+---+------+\n",
            "|yoe|salary|\n",
            "+---+------+\n",
            "|  2|    15|\n",
            "|  3|    28|\n",
            "|  5|    42|\n",
            "| 13|    64|\n",
            "|  8|    50|\n",
            "| 16|    90|\n",
            "| 11|    58|\n",
            "|  1|     8|\n",
            "|  9|    54|\n",
            "+---+------+\n",
            "\n"
          ]
        }
      ],
      "source": [
        "raw_df.show()"
      ]
    },
    {
      "cell_type": "code",
      "execution_count": null,
      "metadata": {
        "colab": {
          "base_uri": "https://localhost:8080/"
        },
        "id": "v9QN3RT_8bBi",
        "outputId": "be46f096-5fab-44fd-92bb-a97648cc1377"
      },
      "outputs": [
        {
          "output_type": "stream",
          "name": "stdout",
          "text": [
            "root\n",
            " |-- yoe: long (nullable = true)\n",
            " |-- salary: long (nullable = true)\n",
            "\n"
          ]
        }
      ],
      "source": [
        "raw_df.printSchema()"
      ]
    },
    {
      "cell_type": "code",
      "execution_count": null,
      "metadata": {
        "id": "ET9zl77SxfaW"
      },
      "outputs": [],
      "source": [
        "result_df = raw_df.withColumn('prediction',sparkf_lineareq(sparkf.col('yoe'),sparkf.lit(w1),sparkf.lit(w0)))"
      ]
    },
    {
      "cell_type": "code",
      "execution_count": null,
      "metadata": {
        "colab": {
          "base_uri": "https://localhost:8080/"
        },
        "id": "HIW3e6CnGkeM",
        "outputId": "ef9df5d9-c55e-4f14-fa40-d03a54f939be"
      },
      "outputs": [
        {
          "output_type": "stream",
          "name": "stdout",
          "text": [
            "+---+------+------------------+\n",
            "|yoe|salary|        prediction|\n",
            "+---+------+------------------+\n",
            "|  2|    15| 18.46693147911063|\n",
            "|  3|    28|23.302527128704135|\n",
            "|  5|    42| 32.97371842789114|\n",
            "| 13|    64| 71.65848362463916|\n",
            "|  8|    50| 47.48050537667165|\n",
            "| 16|    90| 86.16527057341968|\n",
            "| 11|    58| 61.98729232545216|\n",
            "|  1|     8|13.631335829517127|\n",
            "|  9|    54| 52.31610102626515|\n",
            "+---+------+------------------+\n",
            "\n"
          ]
        }
      ],
      "source": [
        "result_df.show()"
      ]
    },
    {
      "cell_type": "code",
      "execution_count": null,
      "metadata": {
        "colab": {
          "base_uri": "https://localhost:8080/"
        },
        "id": "uPZG1jz_xfXh",
        "outputId": "de4ceba3-6a1f-4813-856c-eceaac5a74ff"
      },
      "outputs": [
        {
          "output_type": "stream",
          "name": "stdout",
          "text": [
            "+---+------+------------------+-------------------+------------------+\n",
            "|yoe|salary|        prediction|              Error|   square of Error|\n",
            "+---+------+------------------+-------------------+------------------+\n",
            "|  2|    15| 18.46693147911063| -3.466931479110631|12.019613880848228|\n",
            "|  3|    28|23.302527128704135|  4.697472871295865| 22.06625137656062|\n",
            "|  5|    42| 32.97371842789114|  9.026281572108857| 81.47375901899194|\n",
            "| 13|    64| 71.65848362463916|  -7.65848362463916| 58.65237142886617|\n",
            "|  8|    50| 47.48050537667165|  2.519494623328349| 6.347853156980459|\n",
            "| 16|    90| 86.16527057341968| 3.8347294265803242|14.705149775081063|\n",
            "| 11|    58| 61.98729232545216|-3.9872923254521595| 15.89850008860969|\n",
            "|  1|     8|13.631335829517127| -5.631335829517127| 31.71194322480335|\n",
            "|  9|    54| 52.31610102626515| 1.6838989737348484|2.8355157537452755|\n",
            "+---+------+------------------+-------------------+------------------+\n",
            "\n"
          ]
        }
      ],
      "source": [
        "result_df.withColumn('Error',sparkf.col('salary')-sparkf.col('prediction'))\\\n",
        ".withColumn('square of Error',sparkf.col('Error')**2).show()"
      ]
    },
    {
      "cell_type": "markdown",
      "metadata": {
        "id": "Re6n42fniQp6"
      },
      "source": [
        "แสดง SSE จากการ Prediction บน training set ทั้งหมด ด้วย optimized weight"
      ]
    },
    {
      "cell_type": "code",
      "execution_count": null,
      "metadata": {
        "colab": {
          "base_uri": "https://localhost:8080/"
        },
        "collapsed": true,
        "id": "GsltUxZza2LE",
        "outputId": "c05edf0e-4956-4cea-a4c0-29224ad9e205"
      },
      "outputs": [
        {
          "output_type": "stream",
          "name": "stdout",
          "text": [
            "+-----------------+\n",
            "|              SSE|\n",
            "+-----------------+\n",
            "|245.7109577044868|\n",
            "+-----------------+\n",
            "\n"
          ]
        }
      ],
      "source": [
        "result_df.withColumn('Error',sparkf.col('salary')-sparkf.col('prediction'))\\\n",
        ".withColumn('square of Error',sparkf.col('Error')**2)\\\n",
        ".agg(sparkf.sum(sparkf.col('square of Error')).alias('SSE')).show()"
      ]
    },
    {
      "cell_type": "code",
      "execution_count": null,
      "metadata": {
        "colab": {
          "base_uri": "https://localhost:8080/"
        },
        "id": "kHGZoombt2qj",
        "outputId": "258ecc17-c011-4b0a-b9ed-70a1ec8708f0"
      },
      "outputs": [
        {
          "output_type": "execute_result",
          "data": {
            "text/plain": [
              "0.09515644560781311"
            ]
          },
          "metadata": {},
          "execution_count": 399
        }
      ],
      "source": [
        "multiple_deltaVal_w1_arr.min()"
      ]
    },
    {
      "cell_type": "markdown",
      "metadata": {
        "id": "leGPA0mBiCIe"
      },
      "source": [
        "แสดง Gradient ที่เข้าใกล้ศูนย์"
      ]
    },
    {
      "cell_type": "code",
      "execution_count": null,
      "metadata": {
        "colab": {
          "base_uri": "https://localhost:8080/"
        },
        "id": "NJn5GyEKv25c",
        "outputId": "25f362d4-b32c-40c1-dbc1-ca9deebbdcfb"
      },
      "outputs": [
        {
          "output_type": "execute_result",
          "data": {
            "text/plain": [
              "-0.10300777025884855"
            ]
          },
          "metadata": {},
          "execution_count": 400
        }
      ],
      "source": [
        "(multiple_deltaVal_w1_arr*-1).min()"
      ]
    },
    {
      "cell_type": "markdown",
      "metadata": {
        "id": "kDXrit7gh9ne"
      },
      "source": [
        "แสดง Error ที่ต่ำที่สุด"
      ]
    },
    {
      "cell_type": "code",
      "execution_count": null,
      "metadata": {
        "colab": {
          "base_uri": "https://localhost:8080/"
        },
        "id": "fwfOo2-iST80",
        "outputId": "38eacf31-5ff1-496a-a50e-6fa7feabb12b"
      },
      "outputs": [
        {
          "output_type": "execute_result",
          "data": {
            "text/plain": [
              "245.7109577671894"
            ]
          },
          "metadata": {},
          "execution_count": 401
        }
      ],
      "source": [
        "min(all_errors)"
      ]
    },
    {
      "cell_type": "code",
      "execution_count": null,
      "metadata": {
        "id": "ZSkSMi_xSp7q"
      },
      "outputs": [],
      "source": [
        " "
      ]
    }
  ],
  "metadata": {
    "colab": {
      "collapsed_sections": [
        "EQ2QjE8pa2K4",
        "NCd1UwPfa2LB"
      ],
      "name": "Batch_Gradient_Descent_using_Pyspark.ipynb",
      "provenance": [],
      "include_colab_link": true
    },
    "kernelspec": {
      "display_name": "Python 3",
      "language": "python",
      "name": "python3"
    },
    "language_info": {
      "codemirror_mode": {
        "name": "ipython",
        "version": 3
      },
      "file_extension": ".py",
      "mimetype": "text/x-python",
      "name": "python",
      "nbconvert_exporter": "python",
      "pygments_lexer": "ipython3",
      "version": "3.6.1"
    }
  },
  "nbformat": 4,
  "nbformat_minor": 0
}